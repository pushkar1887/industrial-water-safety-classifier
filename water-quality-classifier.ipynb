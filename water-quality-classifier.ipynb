{
 "cells": [
  {
   "cell_type": "code",
   "execution_count": 1,
   "id": "915e5f23",
   "metadata": {
    "_cell_guid": "50d0b9cf-1ed9-40bd-b40b-6581de55e7f8",
    "_uuid": "af984953-cd0b-4f5f-ad78-ef45b948dbca",
    "collapsed": false,
    "execution": {
     "iopub.execute_input": "2025-08-05T01:53:00.624909Z",
     "iopub.status.busy": "2025-08-05T01:53:00.624702Z",
     "iopub.status.idle": "2025-08-05T01:53:03.595062Z",
     "shell.execute_reply": "2025-08-05T01:53:03.594226Z"
    },
    "jupyter": {
     "outputs_hidden": false
    },
    "papermill": {
     "duration": 2.975536,
     "end_time": "2025-08-05T01:53:03.596671",
     "exception": false,
     "start_time": "2025-08-05T01:53:00.621135",
     "status": "completed"
    },
    "tags": []
   },
   "outputs": [],
   "source": [
    "import pandas as pd\n",
    "import numpy as np\n",
    "from sklearn.model_selection import train_test_split\n",
    "from sklearn.ensemble import RandomForestClassifier\n",
    "from sklearn.metrics import classification_report, confusion_matrix\n",
    "from sklearn.preprocessing import LabelEncoder\n"
   ]
  },
  {
   "cell_type": "code",
   "execution_count": 2,
   "id": "0de9d9b2",
   "metadata": {
    "execution": {
     "iopub.execute_input": "2025-08-05T01:53:03.602775Z",
     "iopub.status.busy": "2025-08-05T01:53:03.602445Z",
     "iopub.status.idle": "2025-08-05T01:53:03.646660Z",
     "shell.execute_reply": "2025-08-05T01:53:03.645998Z"
    },
    "papermill": {
     "duration": 0.048162,
     "end_time": "2025-08-05T01:53:03.647772",
     "exception": false,
     "start_time": "2025-08-05T01:53:03.599610",
     "status": "completed"
    },
    "tags": []
   },
   "outputs": [
    {
     "data": {
      "text/html": [
       "<div>\n",
       "<style scoped>\n",
       "    .dataframe tbody tr th:only-of-type {\n",
       "        vertical-align: middle;\n",
       "    }\n",
       "\n",
       "    .dataframe tbody tr th {\n",
       "        vertical-align: top;\n",
       "    }\n",
       "\n",
       "    .dataframe thead th {\n",
       "        text-align: right;\n",
       "    }\n",
       "</style>\n",
       "<table border=\"1\" class=\"dataframe\">\n",
       "  <thead>\n",
       "    <tr style=\"text-align: right;\">\n",
       "      <th></th>\n",
       "      <th>timestamp</th>\n",
       "      <th>TDS</th>\n",
       "      <th>turbidity</th>\n",
       "      <th>temperature</th>\n",
       "      <th>pH</th>\n",
       "      <th>status</th>\n",
       "      <th>cause</th>\n",
       "    </tr>\n",
       "  </thead>\n",
       "  <tbody>\n",
       "    <tr>\n",
       "      <th>0</th>\n",
       "      <td>2025-01-01 00:00:00</td>\n",
       "      <td>735.91</td>\n",
       "      <td>13.30</td>\n",
       "      <td>46.09</td>\n",
       "      <td>6.74</td>\n",
       "      <td>Warning</td>\n",
       "      <td>TDS Warning, Turbidity Warning, Temp Warning</td>\n",
       "    </tr>\n",
       "    <tr>\n",
       "      <th>1</th>\n",
       "      <td>2025-01-01 00:10:00</td>\n",
       "      <td>717.53</td>\n",
       "      <td>16.98</td>\n",
       "      <td>51.26</td>\n",
       "      <td>6.88</td>\n",
       "      <td>Warning</td>\n",
       "      <td>High Temp</td>\n",
       "    </tr>\n",
       "    <tr>\n",
       "      <th>2</th>\n",
       "      <td>2025-01-01 00:20:00</td>\n",
       "      <td>593.72</td>\n",
       "      <td>4.30</td>\n",
       "      <td>27.94</td>\n",
       "      <td>7.40</td>\n",
       "      <td>Safe</td>\n",
       "      <td>NaN</td>\n",
       "    </tr>\n",
       "    <tr>\n",
       "      <th>3</th>\n",
       "      <td>2025-01-01 00:30:00</td>\n",
       "      <td>477.20</td>\n",
       "      <td>16.48</td>\n",
       "      <td>39.42</td>\n",
       "      <td>6.79</td>\n",
       "      <td>Warning</td>\n",
       "      <td>Turbidity Warning</td>\n",
       "    </tr>\n",
       "    <tr>\n",
       "      <th>4</th>\n",
       "      <td>2025-01-01 00:40:00</td>\n",
       "      <td>392.80</td>\n",
       "      <td>11.23</td>\n",
       "      <td>35.66</td>\n",
       "      <td>6.28</td>\n",
       "      <td>Safe</td>\n",
       "      <td>Turbidity Warning</td>\n",
       "    </tr>\n",
       "  </tbody>\n",
       "</table>\n",
       "</div>"
      ],
      "text/plain": [
       "             timestamp     TDS  turbidity  temperature    pH   status  \\\n",
       "0  2025-01-01 00:00:00  735.91      13.30        46.09  6.74  Warning   \n",
       "1  2025-01-01 00:10:00  717.53      16.98        51.26  6.88  Warning   \n",
       "2  2025-01-01 00:20:00  593.72       4.30        27.94  7.40     Safe   \n",
       "3  2025-01-01 00:30:00  477.20      16.48        39.42  6.79  Warning   \n",
       "4  2025-01-01 00:40:00  392.80      11.23        35.66  6.28     Safe   \n",
       "\n",
       "                                          cause  \n",
       "0  TDS Warning, Turbidity Warning, Temp Warning  \n",
       "1                                     High Temp  \n",
       "2                                           NaN  \n",
       "3                             Turbidity Warning  \n",
       "4                             Turbidity Warning  "
      ]
     },
     "execution_count": 2,
     "metadata": {},
     "output_type": "execute_result"
    }
   ],
   "source": [
    "df = pd.read_csv(\"/kaggle/input/shuf-co-data-water/shu_cor_water_Q.csv\")\n",
    "df.head()\n"
   ]
  },
  {
   "cell_type": "code",
   "execution_count": 3,
   "id": "83f0c2c1",
   "metadata": {
    "execution": {
     "iopub.execute_input": "2025-08-05T01:53:03.653359Z",
     "iopub.status.busy": "2025-08-05T01:53:03.653112Z",
     "iopub.status.idle": "2025-08-05T01:53:03.673393Z",
     "shell.execute_reply": "2025-08-05T01:53:03.672655Z"
    },
    "papermill": {
     "duration": 0.024223,
     "end_time": "2025-08-05T01:53:03.674599",
     "exception": false,
     "start_time": "2025-08-05T01:53:03.650376",
     "status": "completed"
    },
    "tags": []
   },
   "outputs": [
    {
     "data": {
      "text/html": [
       "<div>\n",
       "<style scoped>\n",
       "    .dataframe tbody tr th:only-of-type {\n",
       "        vertical-align: middle;\n",
       "    }\n",
       "\n",
       "    .dataframe tbody tr th {\n",
       "        vertical-align: top;\n",
       "    }\n",
       "\n",
       "    .dataframe thead th {\n",
       "        text-align: right;\n",
       "    }\n",
       "</style>\n",
       "<table border=\"1\" class=\"dataframe\">\n",
       "  <thead>\n",
       "    <tr style=\"text-align: right;\">\n",
       "      <th></th>\n",
       "      <th>status</th>\n",
       "      <th>status_encoded</th>\n",
       "    </tr>\n",
       "  </thead>\n",
       "  <tbody>\n",
       "    <tr>\n",
       "      <th>0</th>\n",
       "      <td>Warning</td>\n",
       "      <td>2</td>\n",
       "    </tr>\n",
       "    <tr>\n",
       "      <th>2</th>\n",
       "      <td>Safe</td>\n",
       "      <td>1</td>\n",
       "    </tr>\n",
       "    <tr>\n",
       "      <th>9</th>\n",
       "      <td>Danger</td>\n",
       "      <td>0</td>\n",
       "    </tr>\n",
       "  </tbody>\n",
       "</table>\n",
       "</div>"
      ],
      "text/plain": [
       "    status  status_encoded\n",
       "0  Warning               2\n",
       "2     Safe               1\n",
       "9   Danger               0"
      ]
     },
     "execution_count": 3,
     "metadata": {},
     "output_type": "execute_result"
    }
   ],
   "source": [
    "label_encoder = LabelEncoder()\n",
    "df[\"status_encoded\"] = label_encoder.fit_transform(df[\"status\"])\n",
    "df[[\"status\", \"status_encoded\"]].drop_duplicates()\n"
   ]
  },
  {
   "cell_type": "code",
   "execution_count": 4,
   "id": "515b95d2",
   "metadata": {
    "execution": {
     "iopub.execute_input": "2025-08-05T01:53:03.680558Z",
     "iopub.status.busy": "2025-08-05T01:53:03.680338Z",
     "iopub.status.idle": "2025-08-05T01:53:03.685902Z",
     "shell.execute_reply": "2025-08-05T01:53:03.685142Z"
    },
    "papermill": {
     "duration": 0.009957,
     "end_time": "2025-08-05T01:53:03.687092",
     "exception": false,
     "start_time": "2025-08-05T01:53:03.677135",
     "status": "completed"
    },
    "tags": []
   },
   "outputs": [],
   "source": [
    "X = df[[\"TDS\", \"turbidity\", \"temperature\", \"pH\"]]\n",
    "y = df[\"status_encoded\"]\n"
   ]
  },
  {
   "cell_type": "code",
   "execution_count": 5,
   "id": "2df9b42a",
   "metadata": {
    "execution": {
     "iopub.execute_input": "2025-08-05T01:53:03.693707Z",
     "iopub.status.busy": "2025-08-05T01:53:03.693101Z",
     "iopub.status.idle": "2025-08-05T01:53:03.698575Z",
     "shell.execute_reply": "2025-08-05T01:53:03.697933Z"
    },
    "papermill": {
     "duration": 0.009973,
     "end_time": "2025-08-05T01:53:03.699864",
     "exception": false,
     "start_time": "2025-08-05T01:53:03.689891",
     "status": "completed"
    },
    "tags": []
   },
   "outputs": [],
   "source": [
    "X_train, X_test, y_train, y_test = train_test_split(\n",
    "    X, y, test_size=0.2, random_state=42)\n"
   ]
  },
  {
   "cell_type": "code",
   "execution_count": 6,
   "id": "c2c1f5da",
   "metadata": {
    "execution": {
     "iopub.execute_input": "2025-08-05T01:53:03.705911Z",
     "iopub.status.busy": "2025-08-05T01:53:03.705716Z",
     "iopub.status.idle": "2025-08-05T01:53:04.041301Z",
     "shell.execute_reply": "2025-08-05T01:53:04.040625Z"
    },
    "papermill": {
     "duration": 0.339857,
     "end_time": "2025-08-05T01:53:04.042484",
     "exception": false,
     "start_time": "2025-08-05T01:53:03.702627",
     "status": "completed"
    },
    "tags": []
   },
   "outputs": [
    {
     "data": {
      "text/html": [
       "<style>#sk-container-id-1 {color: black;background-color: white;}#sk-container-id-1 pre{padding: 0;}#sk-container-id-1 div.sk-toggleable {background-color: white;}#sk-container-id-1 label.sk-toggleable__label {cursor: pointer;display: block;width: 100%;margin-bottom: 0;padding: 0.3em;box-sizing: border-box;text-align: center;}#sk-container-id-1 label.sk-toggleable__label-arrow:before {content: \"▸\";float: left;margin-right: 0.25em;color: #696969;}#sk-container-id-1 label.sk-toggleable__label-arrow:hover:before {color: black;}#sk-container-id-1 div.sk-estimator:hover label.sk-toggleable__label-arrow:before {color: black;}#sk-container-id-1 div.sk-toggleable__content {max-height: 0;max-width: 0;overflow: hidden;text-align: left;background-color: #f0f8ff;}#sk-container-id-1 div.sk-toggleable__content pre {margin: 0.2em;color: black;border-radius: 0.25em;background-color: #f0f8ff;}#sk-container-id-1 input.sk-toggleable__control:checked~div.sk-toggleable__content {max-height: 200px;max-width: 100%;overflow: auto;}#sk-container-id-1 input.sk-toggleable__control:checked~label.sk-toggleable__label-arrow:before {content: \"▾\";}#sk-container-id-1 div.sk-estimator input.sk-toggleable__control:checked~label.sk-toggleable__label {background-color: #d4ebff;}#sk-container-id-1 div.sk-label input.sk-toggleable__control:checked~label.sk-toggleable__label {background-color: #d4ebff;}#sk-container-id-1 input.sk-hidden--visually {border: 0;clip: rect(1px 1px 1px 1px);clip: rect(1px, 1px, 1px, 1px);height: 1px;margin: -1px;overflow: hidden;padding: 0;position: absolute;width: 1px;}#sk-container-id-1 div.sk-estimator {font-family: monospace;background-color: #f0f8ff;border: 1px dotted black;border-radius: 0.25em;box-sizing: border-box;margin-bottom: 0.5em;}#sk-container-id-1 div.sk-estimator:hover {background-color: #d4ebff;}#sk-container-id-1 div.sk-parallel-item::after {content: \"\";width: 100%;border-bottom: 1px solid gray;flex-grow: 1;}#sk-container-id-1 div.sk-label:hover label.sk-toggleable__label {background-color: #d4ebff;}#sk-container-id-1 div.sk-serial::before {content: \"\";position: absolute;border-left: 1px solid gray;box-sizing: border-box;top: 0;bottom: 0;left: 50%;z-index: 0;}#sk-container-id-1 div.sk-serial {display: flex;flex-direction: column;align-items: center;background-color: white;padding-right: 0.2em;padding-left: 0.2em;position: relative;}#sk-container-id-1 div.sk-item {position: relative;z-index: 1;}#sk-container-id-1 div.sk-parallel {display: flex;align-items: stretch;justify-content: center;background-color: white;position: relative;}#sk-container-id-1 div.sk-item::before, #sk-container-id-1 div.sk-parallel-item::before {content: \"\";position: absolute;border-left: 1px solid gray;box-sizing: border-box;top: 0;bottom: 0;left: 50%;z-index: -1;}#sk-container-id-1 div.sk-parallel-item {display: flex;flex-direction: column;z-index: 1;position: relative;background-color: white;}#sk-container-id-1 div.sk-parallel-item:first-child::after {align-self: flex-end;width: 50%;}#sk-container-id-1 div.sk-parallel-item:last-child::after {align-self: flex-start;width: 50%;}#sk-container-id-1 div.sk-parallel-item:only-child::after {width: 0;}#sk-container-id-1 div.sk-dashed-wrapped {border: 1px dashed gray;margin: 0 0.4em 0.5em 0.4em;box-sizing: border-box;padding-bottom: 0.4em;background-color: white;}#sk-container-id-1 div.sk-label label {font-family: monospace;font-weight: bold;display: inline-block;line-height: 1.2em;}#sk-container-id-1 div.sk-label-container {text-align: center;}#sk-container-id-1 div.sk-container {/* jupyter's `normalize.less` sets `[hidden] { display: none; }` but bootstrap.min.css set `[hidden] { display: none !important; }` so we also need the `!important` here to be able to override the default hidden behavior on the sphinx rendered scikit-learn.org. See: https://github.com/scikit-learn/scikit-learn/issues/21755 */display: inline-block !important;position: relative;}#sk-container-id-1 div.sk-text-repr-fallback {display: none;}</style><div id=\"sk-container-id-1\" class=\"sk-top-container\"><div class=\"sk-text-repr-fallback\"><pre>RandomForestClassifier(random_state=42)</pre><b>In a Jupyter environment, please rerun this cell to show the HTML representation or trust the notebook. <br />On GitHub, the HTML representation is unable to render, please try loading this page with nbviewer.org.</b></div><div class=\"sk-container\" hidden><div class=\"sk-item\"><div class=\"sk-estimator sk-toggleable\"><input class=\"sk-toggleable__control sk-hidden--visually\" id=\"sk-estimator-id-1\" type=\"checkbox\" checked><label for=\"sk-estimator-id-1\" class=\"sk-toggleable__label sk-toggleable__label-arrow\">RandomForestClassifier</label><div class=\"sk-toggleable__content\"><pre>RandomForestClassifier(random_state=42)</pre></div></div></div></div></div>"
      ],
      "text/plain": [
       "RandomForestClassifier(random_state=42)"
      ]
     },
     "execution_count": 6,
     "metadata": {},
     "output_type": "execute_result"
    }
   ],
   "source": [
    "clf = RandomForestClassifier(n_estimators=100, random_state=42)\n",
    "clf.fit(X_train, y_train)\n"
   ]
  },
  {
   "cell_type": "code",
   "execution_count": 7,
   "id": "9c735cc8",
   "metadata": {
    "execution": {
     "iopub.execute_input": "2025-08-05T01:53:04.048772Z",
     "iopub.status.busy": "2025-08-05T01:53:04.048525Z",
     "iopub.status.idle": "2025-08-05T01:53:04.072249Z",
     "shell.execute_reply": "2025-08-05T01:53:04.071419Z"
    },
    "papermill": {
     "duration": 0.028053,
     "end_time": "2025-08-05T01:53:04.073436",
     "exception": false,
     "start_time": "2025-08-05T01:53:04.045383",
     "status": "completed"
    },
    "tags": []
   },
   "outputs": [
    {
     "name": "stdout",
     "output_type": "stream",
     "text": [
      "Classification Report:\n",
      "              precision    recall  f1-score   support\n",
      "\n",
      "      Danger       0.98      0.98      0.98        59\n",
      "        Safe       1.00      1.00      1.00       483\n",
      "     Warning       0.99      0.98      0.99       118\n",
      "\n",
      "    accuracy                           0.99       660\n",
      "   macro avg       0.99      0.99      0.99       660\n",
      "weighted avg       0.99      0.99      0.99       660\n",
      "\n",
      "Confusion Matrix:\n",
      "[[ 58   1   0]\n",
      " [  0 482   1]\n",
      " [  1   1 116]]\n"
     ]
    }
   ],
   "source": [
    "y_pred = clf.predict(X_test)\n",
    "\n",
    "print(\"Classification Report:\")\n",
    "print(classification_report(y_test, y_pred, target_names=label_encoder.classes_))\n",
    "\n",
    "print(\"Confusion Matrix:\")\n",
    "print(confusion_matrix(y_test, y_pred))\n"
   ]
  },
  {
   "cell_type": "code",
   "execution_count": 8,
   "id": "43b5591f",
   "metadata": {
    "execution": {
     "iopub.execute_input": "2025-08-05T01:53:04.079835Z",
     "iopub.status.busy": "2025-08-05T01:53:04.079474Z",
     "iopub.status.idle": "2025-08-05T01:53:04.180603Z",
     "shell.execute_reply": "2025-08-05T01:53:04.180004Z"
    },
    "papermill": {
     "duration": 0.105673,
     "end_time": "2025-08-05T01:53:04.181792",
     "exception": false,
     "start_time": "2025-08-05T01:53:04.076119",
     "status": "completed"
    },
    "tags": []
   },
   "outputs": [
    {
     "data": {
      "text/plain": [
       "['label_encoder.pkl']"
      ]
     },
     "execution_count": 8,
     "metadata": {},
     "output_type": "execute_result"
    }
   ],
   "source": [
    "import joblib\n",
    "\n",
    "joblib.dump(clf, \"water_quality_classifier.pkl\")\n",
    "joblib.dump(label_encoder, \"label_encoder.pkl\")\n"
   ]
  },
  {
   "cell_type": "code",
   "execution_count": 9,
   "id": "3d83f06f",
   "metadata": {
    "execution": {
     "iopub.execute_input": "2025-08-05T01:53:04.188303Z",
     "iopub.status.busy": "2025-08-05T01:53:04.188050Z",
     "iopub.status.idle": "2025-08-05T01:53:04.329242Z",
     "shell.execute_reply": "2025-08-05T01:53:04.328333Z"
    },
    "papermill": {
     "duration": 0.146035,
     "end_time": "2025-08-05T01:53:04.330630",
     "exception": false,
     "start_time": "2025-08-05T01:53:04.184595",
     "status": "completed"
    },
    "tags": []
   },
   "outputs": [
    {
     "name": "stdout",
     "output_type": "stream",
     "text": [
      "             timestamp   status predicted_status  \\\n",
      "0  2025-01-01 00:00:00  Warning          Warning   \n",
      "1  2025-01-01 00:10:00  Warning          Warning   \n",
      "2  2025-01-01 00:20:00     Safe             Safe   \n",
      "3  2025-01-01 00:30:00  Warning          Warning   \n",
      "4  2025-01-01 00:40:00     Safe             Safe   \n",
      "\n",
      "                                     predicted_cause  \n",
      "0  TDS Warning, Turbidity Warning, Temperature Wa...  \n",
      "1   TDS Warning, Turbidity Warning, High Temperature  \n",
      "2                   All parameters within safe range  \n",
      "3                                  Turbidity Warning  \n",
      "4                                  Turbidity Warning  \n",
      "✅ Predictions saved to 'predicted_water_quality_full.csv'\n"
     ]
    }
   ],
   "source": [
    "import pandas as pd\n",
    "import joblib\n",
    "\n",
    "# 🔹 Step 1: Load your data\n",
    "df = pd.read_csv(\"/kaggle/input/shuf-co-data-water/shu_cor_water_Q.csv\")\n",
    "\n",
    "# 🔹 Step 2: Load your trained model and encoder\n",
    "model = joblib.load(\"water_quality_classifier.pkl\")\n",
    "encoder = joblib.load(\"label_encoder.pkl\")\n",
    "\n",
    "# 🔹 Step 3: Helper function to explain the cause of status\n",
    "def find_causes(tds, turbidity, temp, ph):\n",
    "    causes = []\n",
    "    if tds > 1000:\n",
    "        causes.append(\"High TDS\")\n",
    "    elif tds > 600:\n",
    "        causes.append(\"TDS Warning\")\n",
    "\n",
    "    if turbidity > 30:\n",
    "        causes.append(\"High Turbidity\")\n",
    "    elif turbidity > 10:\n",
    "        causes.append(\"Turbidity Warning\")\n",
    "\n",
    "    if temp > 50:\n",
    "        causes.append(\"High Temperature\")\n",
    "    elif temp > 40:\n",
    "        causes.append(\"Temperature Warning\")\n",
    "\n",
    "    if ph < 5 or ph > 9:\n",
    "        causes.append(\"Abnormal pH\")\n",
    "    elif ph < 6 or ph > 8:\n",
    "        causes.append(\"pH Warning\")\n",
    "\n",
    "    return \", \".join(causes) if causes else \"All parameters within safe range\"\n",
    "\n",
    "# 🔹 Step 4: Predict status for each row and show cause\n",
    "def predict_on_dataset(df):\n",
    "    X = df[[\"TDS\", \"turbidity\", \"temperature\", \"pH\"]]\n",
    "    y_true = df[\"status\"]\n",
    "\n",
    "    # Predict with model\n",
    "    y_pred_encoded = model.predict(X)\n",
    "    y_pred = encoder.inverse_transform(y_pred_encoded)\n",
    "\n",
    "    # Add predictions to dataframe\n",
    "    df[\"predicted_status\"] = y_pred\n",
    "\n",
    "    # Add predicted cause using the function\n",
    "    df[\"predicted_cause\"] = df.apply(\n",
    "        lambda row: find_causes(row[\"TDS\"], row[\"turbidity\"], row[\"temperature\"], row[\"pH\"]),\n",
    "        axis=1\n",
    "    )\n",
    "\n",
    "    return df\n",
    "\n",
    "# 🔹 Step 5: Run the prediction\n",
    "df_result = predict_on_dataset(df)\n",
    "\n",
    "# 🔹 Step 6: Save or show top predictions\n",
    "print(df_result[[\"timestamp\", \"status\", \"predicted_status\", \"predicted_cause\"]].head())\n",
    "\n",
    "# 🔹 Step 7: Save to file if needed\n",
    "df_result.to_csv(\"predicted_water_quality_full.csv\", index=False)\n",
    "print(\"✅ Predictions saved to 'predicted_water_quality_full.csv'\")\n"
   ]
  },
  {
   "cell_type": "code",
   "execution_count": 10,
   "id": "1a1313fd",
   "metadata": {
    "execution": {
     "iopub.execute_input": "2025-08-05T01:53:04.336895Z",
     "iopub.status.busy": "2025-08-05T01:53:04.336703Z",
     "iopub.status.idle": "2025-08-05T01:53:04.493133Z",
     "shell.execute_reply": "2025-08-05T01:53:04.492549Z"
    },
    "papermill": {
     "duration": 0.16069,
     "end_time": "2025-08-05T01:53:04.494156",
     "exception": false,
     "start_time": "2025-08-05T01:53:04.333466",
     "status": "completed"
    },
    "tags": []
   },
   "outputs": [
    {
     "name": "stdout",
     "output_type": "stream",
     "text": [
      "✅ Model Accuracy on Labeled Dataset: 99.88%\n",
      "\n",
      "📋 Classification Report:\n",
      "              precision    recall  f1-score   support\n",
      "\n",
      "      Danger       1.00      1.00      1.00       301\n",
      "        Safe       1.00      1.00      1.00      2397\n",
      "     Warning       1.00      1.00      1.00       600\n",
      "\n",
      "    accuracy                           1.00      3298\n",
      "   macro avg       1.00      1.00      1.00      3298\n",
      "weighted avg       1.00      1.00      1.00      3298\n",
      "\n",
      "\n",
      "📉 Confusion Matrix:\n",
      "[[ 300    1    0]\n",
      " [   0 2396    1]\n",
      " [   1    1  598]]\n",
      "❌ Mismatches: 4 rows\n",
      "\n"
     ]
    },
    {
     "data": {
      "text/html": [
       "<div>\n",
       "<style scoped>\n",
       "    .dataframe tbody tr th:only-of-type {\n",
       "        vertical-align: middle;\n",
       "    }\n",
       "\n",
       "    .dataframe tbody tr th {\n",
       "        vertical-align: top;\n",
       "    }\n",
       "\n",
       "    .dataframe thead th {\n",
       "        text-align: right;\n",
       "    }\n",
       "</style>\n",
       "<table border=\"1\" class=\"dataframe\">\n",
       "  <thead>\n",
       "    <tr style=\"text-align: right;\">\n",
       "      <th></th>\n",
       "      <th>timestamp</th>\n",
       "      <th>TDS</th>\n",
       "      <th>turbidity</th>\n",
       "      <th>temperature</th>\n",
       "      <th>pH</th>\n",
       "      <th>status</th>\n",
       "      <th>predicted_status</th>\n",
       "      <th>cause</th>\n",
       "    </tr>\n",
       "  </thead>\n",
       "  <tbody>\n",
       "    <tr>\n",
       "      <th>102</th>\n",
       "      <td>2025-01-01 17:00:00</td>\n",
       "      <td>607.70</td>\n",
       "      <td>3.50</td>\n",
       "      <td>42.00</td>\n",
       "      <td>6.91</td>\n",
       "      <td>Safe</td>\n",
       "      <td>Warning</td>\n",
       "      <td>TDS Warning, Temp Warning</td>\n",
       "    </tr>\n",
       "    <tr>\n",
       "      <th>195</th>\n",
       "      <td>2025-01-02 08:30:00</td>\n",
       "      <td>621.70</td>\n",
       "      <td>18.98</td>\n",
       "      <td>51.53</td>\n",
       "      <td>6.53</td>\n",
       "      <td>Warning</td>\n",
       "      <td>Danger</td>\n",
       "      <td>High Temp</td>\n",
       "    </tr>\n",
       "    <tr>\n",
       "      <th>299</th>\n",
       "      <td>2025-01-03 01:50:00</td>\n",
       "      <td>571.62</td>\n",
       "      <td>12.02</td>\n",
       "      <td>27.03</td>\n",
       "      <td>4.70</td>\n",
       "      <td>Danger</td>\n",
       "      <td>Safe</td>\n",
       "      <td>Abnormal pH</td>\n",
       "    </tr>\n",
       "    <tr>\n",
       "      <th>612</th>\n",
       "      <td>2025-01-05 06:00:00</td>\n",
       "      <td>427.11</td>\n",
       "      <td>9.10</td>\n",
       "      <td>32.75</td>\n",
       "      <td>6.14</td>\n",
       "      <td>Warning</td>\n",
       "      <td>Safe</td>\n",
       "      <td>NaN</td>\n",
       "    </tr>\n",
       "  </tbody>\n",
       "</table>\n",
       "</div>"
      ],
      "text/plain": [
       "               timestamp     TDS  turbidity  temperature    pH   status  \\\n",
       "102  2025-01-01 17:00:00  607.70       3.50        42.00  6.91     Safe   \n",
       "195  2025-01-02 08:30:00  621.70      18.98        51.53  6.53  Warning   \n",
       "299  2025-01-03 01:50:00  571.62      12.02        27.03  4.70   Danger   \n",
       "612  2025-01-05 06:00:00  427.11       9.10        32.75  6.14  Warning   \n",
       "\n",
       "    predicted_status                      cause  \n",
       "102          Warning  TDS Warning, Temp Warning  \n",
       "195           Danger                  High Temp  \n",
       "299             Safe                Abnormal pH  \n",
       "612             Safe                        NaN  "
      ]
     },
     "execution_count": 10,
     "metadata": {},
     "output_type": "execute_result"
    }
   ],
   "source": [
    "import pandas as pd\n",
    "import joblib\n",
    "from sklearn.metrics import classification_report, confusion_matrix\n",
    "\n",
    "# Load your dataset\n",
    "df = pd.read_csv(\"/kaggle/input/shuf-co-data-water/shu_cor_water_Q.csv\")\n",
    "\n",
    "# Load your trained model and label encoder\n",
    "model = joblib.load(\"water_quality_classifier.pkl\")\n",
    "encoder = joblib.load(\"label_encoder.pkl\")\n",
    "# Extract only feature columns\n",
    "X = df[[\"TDS\", \"turbidity\", \"temperature\", \"pH\"]]\n",
    "y_true = df[\"status\"]\n",
    "# Predict encoded labels\n",
    "y_pred_encoded = model.predict(X)\n",
    "\n",
    "# Decode predictions back to readable labels\n",
    "y_pred = encoder.inverse_transform(y_pred_encoded)\n",
    "\n",
    "# Add predictions to the dataframe\n",
    "df[\"predicted_status\"] = y_pred\n",
    "# Calculate match percentage\n",
    "accuracy = (df[\"status\"] == df[\"predicted_status\"]).mean() * 100\n",
    "print(f\"✅ Model Accuracy on Labeled Dataset: {accuracy:.2f}%\")\n",
    "\n",
    "# Optional: detailed report\n",
    "print(\"\\n📋 Classification Report:\")\n",
    "print(classification_report(y_true, y_pred, target_names=encoder.classes_))\n",
    "\n",
    "print(\"\\n📉 Confusion Matrix:\")\n",
    "print(confusion_matrix(y_true, y_pred, labels=encoder.classes_))\n",
    "# Show rows where predicted ≠ actual\n",
    "mismatches = df[df[\"status\"] != df[\"predicted_status\"]]\n",
    "print(f\"❌ Mismatches: {len(mismatches)} rows\\n\")\n",
    "mismatches[[\"timestamp\", \"TDS\", \"turbidity\", \"temperature\", \"pH\", \"status\", \"predicted_status\", \"cause\"]].head()\n"
   ]
  },
  {
   "cell_type": "code",
   "execution_count": null,
   "id": "06cc790a",
   "metadata": {
    "papermill": {
     "duration": 0.003051,
     "end_time": "2025-08-05T01:53:04.500160",
     "exception": false,
     "start_time": "2025-08-05T01:53:04.497109",
     "status": "completed"
    },
    "tags": []
   },
   "outputs": [],
   "source": []
  }
 ],
 "metadata": {
  "kaggle": {
   "accelerator": "gpu",
   "dataSources": [
    {
     "datasetId": 7870854,
     "sourceId": 12475125,
     "sourceType": "datasetVersion"
    }
   ],
   "dockerImageVersionId": 31090,
   "isGpuEnabled": true,
   "isInternetEnabled": true,
   "language": "python",
   "sourceType": "notebook"
  },
  "kernelspec": {
   "display_name": "Python 3",
   "language": "python",
   "name": "python3"
  },
  "language_info": {
   "codemirror_mode": {
    "name": "ipython",
    "version": 3
   },
   "file_extension": ".py",
   "mimetype": "text/x-python",
   "name": "python",
   "nbconvert_exporter": "python",
   "pygments_lexer": "ipython3",
   "version": "3.11.13"
  },
  "papermill": {
   "default_parameters": {},
   "duration": 8.500989,
   "end_time": "2025-08-05T01:53:04.920437",
   "environment_variables": {},
   "exception": null,
   "input_path": "__notebook__.ipynb",
   "output_path": "__notebook__.ipynb",
   "parameters": {},
   "start_time": "2025-08-05T01:52:56.419448",
   "version": "2.6.0"
  }
 },
 "nbformat": 4,
 "nbformat_minor": 5
}
